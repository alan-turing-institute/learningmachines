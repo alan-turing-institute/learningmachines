{
 "cells": [
  {
   "cell_type": "markdown",
   "metadata": {},
   "source": [
    "# Data Visualisation"
   ]
  },
  {
   "cell_type": "markdown",
   "metadata": {},
   "source": [
    "This notebook aims to provide visualisation of the CPATH MS dataset, so that readers can understand the dataset and design a proper ML objective for the first LM toy model.\n",
    "\n"
   ]
  },
  {
   "cell_type": "markdown",
   "metadata": {},
   "source": [
    "## Basic flowchart\n",
    "The flowchart below shows the basic rundown of the toy model. Using patient's background and their QS record (KFSS score) as input, we will predict whether they will have a relapse event in n months' time."
   ]
  },
  {
   "cell_type": "markdown",
   "metadata": {},
   "source": [
    "![title](flowchart.png)"
   ]
  },
  {
   "cell_type": "code",
   "execution_count": 1,
   "metadata": {},
   "outputs": [],
   "source": [
    "from fill_database import setup_database\n",
    "from app import create_app\n",
    "from database import db\n",
    "from tables import DM,CE,QS,MH\n"
   ]
  },
  {
   "cell_type": "code",
   "execution_count": 2,
   "metadata": {},
   "outputs": [],
   "source": [
    "import matplotlib.pyplot as plt\n",
    "import numpy as np\n",
    "import pandas as pd\n"
   ]
  },
  {
   "cell_type": "code",
   "execution_count": null,
   "metadata": {},
   "outputs": [],
   "source": []
  },
  {
   "cell_type": "code",
   "execution_count": 3,
   "metadata": {},
   "outputs": [
    {
     "name": "stdout",
     "output_type": "stream",
     "text": [
      "POPULATE_DB set to False\n",
      "database setup and ready to use.\n"
     ]
    }
   ],
   "source": [
    "app = create_app()\n",
    "setup_database(app,datapath='../csv/',POPULATE_DB=False)\n",
    "app.app_context().push()\n"
   ]
  },
  {
   "cell_type": "markdown",
   "metadata": {},
   "source": [
    "## Gender Distribution"
   ]
  },
  {
   "cell_type": "code",
   "execution_count": null,
   "metadata": {},
   "outputs": [],
   "source": [
    "all_sex = np.array(db.session.query(DM.gender).all())\n",
    "all_sex[all_sex == None] = 'Missing'\n",
    "keys, counts = np.unique(all_sex, return_counts=True)\n",
    "plt.figure(figsize = (8,6))\n",
    "plt.bar(keys,counts)\n",
    "plt.title(\"Gender Distribution\",fontsize=16)\n",
    "plt.show()"
   ]
  },
  {
   "cell_type": "code",
   "execution_count": null,
   "metadata": {},
   "outputs": [],
   "source": []
  },
  {
   "cell_type": "markdown",
   "metadata": {},
   "source": [
    "## Ethnicity Distribution "
   ]
  },
  {
   "cell_type": "code",
   "execution_count": null,
   "metadata": {},
   "outputs": [],
   "source": [
    "all_race = np.array(db.session.query(DM.race).all())\n",
    "all_race[all_race == None] = 'Missing'\n",
    "keys, counts = np.unique(all_race, return_counts=True)\n",
    "plt.figure(figsize = (16,8))\n",
    "plt.bar(keys,counts)\n",
    "plt.title(\"Ethnicity Distribution\",fontsize=16)\n",
    "plt.show()"
   ]
  },
  {
   "cell_type": "markdown",
   "metadata": {},
   "source": [
    "## Nationality distribution\n"
   ]
  },
  {
   "cell_type": "code",
   "execution_count": null,
   "metadata": {},
   "outputs": [],
   "source": [
    "all_country = np.array(db.session.query(DM.country).all())\n",
    "all_country[all_country == None] = 'Missing'\n",
    "keys, counts = np.unique(all_country, return_counts=True)\n",
    "plt.figure(figsize = (18,6))\n",
    "plt.bar(keys,counts)\n",
    "plt.title(\"Nationality Distribution\",fontsize=16)\n",
    "plt.show()"
   ]
  },
  {
   "cell_type": "code",
   "execution_count": null,
   "metadata": {},
   "outputs": [],
   "source": []
  },
  {
   "cell_type": "markdown",
   "metadata": {},
   "source": [
    "## Age Distribution"
   ]
  },
  {
   "cell_type": "code",
   "execution_count": null,
   "metadata": {},
   "outputs": [],
   "source": [
    "all_age = np.array(db.session.query(DM.age).all())\n",
    "all_age[all_age == None] = 0 \n",
    "keys, counts = np.unique(all_age, return_counts=True)\n",
    "plt.figure(figsize = (16,8))\n",
    "plt.bar(keys,counts)\n",
    "plt.title(\"Age Distribution\",fontsize=16)"
   ]
  },
  {
   "cell_type": "code",
   "execution_count": null,
   "metadata": {},
   "outputs": [],
   "source": [
    "len(all_age)"
   ]
  },
  {
   "cell_type": "code",
   "execution_count": null,
   "metadata": {},
   "outputs": [],
   "source": [
    "all_age = np.array(db.session.query(DM.age).all()).flatten()\n",
    "all_age[all_age == None] = np.nan\n",
    "np.nanmean(pd.to_numeric(all_age))\n",
    "np.nanstd(pd.to_numeric(all_age))\n",
    "\n",
    "\n"
   ]
  },
  {
   "cell_type": "markdown",
   "metadata": {},
   "source": [
    "## Short Notes Here:\n",
    "+ There are 2465 patients in total. \n",
    "+ The mean age is $41 \\pm 10.4$ years old. \n",
    "+ Many Nationality and Ethnicity data are missing so may not be useful. \n",
    "\n"
   ]
  },
  {
   "cell_type": "markdown",
   "metadata": {},
   "source": [
    "## Clinical Event (CE) related distrituion"
   ]
  },
  {
   "cell_type": "markdown",
   "metadata": {},
   "source": [
    "Clinical event records every relpase events from a patient and its duration.\n"
   ]
  },
  {
   "cell_type": "markdown",
   "metadata": {},
   "source": [
    "### Confirmed vs Suspected Relapse Event"
   ]
  },
  {
   "cell_type": "markdown",
   "metadata": {},
   "source": [
    "### Reported Cases"
   ]
  },
  {
   "cell_type": "code",
   "execution_count": null,
   "metadata": {},
   "outputs": [],
   "source": [
    "all_reported_cases = np.array(db.session.query(CE.reported_term).all())\n",
    "all_reported_cases[all_reported_cases == None] = 'Missing'\n",
    "relapse_list = []\n",
    "suspected_list = []\n",
    "missing_list = []\n",
    "for i,item in enumerate(all_reported_cases):\n",
    "    if \"RELAPSE\" in item[0]:\n",
    "        relapse_list.append(1)\n",
    "    elif \"Suspected\" in item[0]:\n",
    "        suspected_list.append(1)\n",
    "    else:\n",
    "        missing_list.append(1)\n",
    "all_reported_cases_dict = {'RELAPSE mentioned':np.sum(relapse_list),'Suspected':np.sum(suspected_list),'Missing':np.sum(missing_list)}\n",
    "plt.bar(all_reported_cases_dict.keys(),all_reported_cases_dict.values())\n",
    "plt.title(\"Confirmed vs Suspected Relapse Event\",fontsize=16)\n"
   ]
  },
  {
   "cell_type": "markdown",
   "metadata": {},
   "source": [
    "### Modified Cases"
   ]
  },
  {
   "cell_type": "code",
   "execution_count": null,
   "metadata": {},
   "outputs": [],
   "source": [
    "all_cases = np.array(db.session.query(CE.modify_term).all())\n",
    "all_cases[all_cases == None] = 'Missing'"
   ]
  },
  {
   "cell_type": "code",
   "execution_count": null,
   "metadata": {},
   "outputs": [],
   "source": [
    "confirmed_list = []\n",
    "suspected_list = []\n",
    "other_list = []\n",
    "missing_list = []\n",
    "for i,item in enumerate(all_cases):\n",
    "    if \"Confirmed\" in item[0]:\n",
    "        confirmed_list.append(1)\n",
    "    elif \"Suspected\" in item[0]:\n",
    "        suspected_list.append(1)\n",
    "    elif \"Missing\" in item[0]:\n",
    "        missing_list.append(1)\n",
    "    else:\n",
    "        other_list.append(1)\n",
    "\n",
    "\n",
    "all_cases_dict = {'Confirmed':np.sum(confirmed_list),'Suspected':np.sum(suspected_list),'Missing':np.sum(missing_list),'Other':np.sum(other_list)}\n",
    "plt.figure(figsize = (8,6))\n",
    "plt.bar(all_cases_dict.keys(),all_cases_dict.values())\n",
    "plt.title(\"Confirmed vs Suspected Relapse Event\",fontsize=16)"
   ]
  },
  {
   "cell_type": "markdown",
   "metadata": {},
   "source": [
    "## Any overlap between start day and reported day?"
   ]
  },
  {
   "cell_type": "code",
   "execution_count": null,
   "metadata": {},
   "outputs": [],
   "source": [
    "## start day or reported day of the relapse event \n",
    "all_start_onset = np.array(db.session.query(CE.start_day).all())\n",
    "all_onset = np.array(db.session.query(CE.day).all())\n",
    "all_start_onset[all_start_onset == None] = np.nan\n",
    "all_onset[all_onset == None] = np.nan\n",
    "print('start day, reported day')\n",
    "no_overlap = []\n",
    "overlap = []\n",
    "\n",
    "for i in range(len(all_start_onset)):\n",
    "    if (all_start_onset[i][0] is not np.nan and all_onset[i][0] is not np.nan):\n",
    "        overlap.append(1)\n",
    "    else:\n",
    "        no_overlap.append(1)\n",
    "all_cases_dict = {'No Overlap':np.sum(no_overlap),'Overlap':np.sum(overlap)}\n",
    "plt.figure(figsize = (8,6))\n",
    "plt.bar(all_cases_dict.keys(),all_cases_dict.values())\n",
    "plt.title(\"Overlap between start day and reported day\",fontsize=16)"
   ]
  },
  {
   "cell_type": "code",
   "execution_count": null,
   "metadata": {},
   "outputs": [],
   "source": [
    "## start day or reported day of the relapse event \n",
    "all_start_onset = np.array(db.session.query(CE.start_day).all())\n",
    "all_onset = np.array(db.session.query(CE.day).all())\n",
    "all_start_onset[all_start_onset == None] = np.nan\n",
    "all_onset[all_onset == None] = np.nan\n",
    "print('start day, reported day')\n",
    "for i in range(len(all_start_onset)):\n",
    "    if (all_start_onset[i][0] is not np.nan and all_onset[i][0] is not np.nan):\n",
    "        print(all_start_onset[i],all_onset[i])"
   ]
  },
  {
   "cell_type": "code",
   "execution_count": null,
   "metadata": {},
   "outputs": [],
   "source": [
    "len(all_start_onset)"
   ]
  },
  {
   "cell_type": "markdown",
   "metadata": {},
   "source": [
    "## Distribution of relapse event per patient"
   ]
  },
  {
   "cell_type": "code",
   "execution_count": null,
   "metadata": {},
   "outputs": [],
   "source": [
    "all_patients = db.session.query(DM).all()\n",
    "number_of_relapse = []\n",
    "for patients in all_patients:\n",
    "    number_of_relapse.append(len(patients.clinical_event))\n",
    "plt.figure(figsize=(16,8))\n",
    "\n",
    "keys, counts = np.unique(number_of_relapse, return_counts=True)\n",
    "plt.bar(keys,counts)\n",
    "plt.title(\"Number of relapse event per patient\",fontsize=16)\n",
    "plt.xlabel(\"Number of Relapse event\")\n",
    "plt.show()"
   ]
  },
  {
   "cell_type": "markdown",
   "metadata": {},
   "source": [
    "### ...removing the 0 occurence"
   ]
  },
  {
   "cell_type": "code",
   "execution_count": null,
   "metadata": {},
   "outputs": [],
   "source": [
    "number_of_relapse = np.array(number_of_relapse)\n",
    "non_zero_relapse = number_of_relapse[number_of_relapse != 0]\n",
    "plt.figure(figsize=(16,8))\n",
    "keys, counts = np.unique(non_zero_relapse, return_counts=True)\n",
    "plt.bar(keys,counts)\n",
    "plt.title(\"Number of relapsing event per patients (no zeros)\",fontsize=16)\n",
    "plt.xlabel(\"Number of Relapse event\")\n",
    "\n",
    "plt.show()"
   ]
  },
  {
   "cell_type": "markdown",
   "metadata": {},
   "source": [
    "### Short Notes Here"
   ]
  },
  {
   "cell_type": "code",
   "execution_count": null,
   "metadata": {},
   "outputs": [],
   "source": [
    "print(f\"For a total of {len(all_patients)} patients, there are {len(non_zero_relapse)} patients with non-zero relapse event.\")\n",
    "print(f\"There are {len(all_patients) - len(non_zero_relapse)} patients with zeros relapse event throughout their observation period.\")\n"
   ]
  },
  {
   "cell_type": "markdown",
   "metadata": {},
   "source": [
    "## Distribution of duration between each relapse events "
   ]
  },
  {
   "cell_type": "code",
   "execution_count": null,
   "metadata": {},
   "outputs": [],
   "source": [
    "all_patients = db.session.query(DM.patient_id).all()\n",
    "duration_of_relapse = []\n",
    "relapse_patient_list = []\n",
    "non_relapse_list = []\n",
    "for patients in all_patients:\n",
    "    init_record = np.array(CE.query.with_entities(CE.day).filter_by(patient_id = patients[0]).all()).flatten()\n",
    "    if len(init_record) != 0:\n",
    "        relapse_patient_list.append(patients[0])\n",
    "        if None in init_record:\n",
    "            init_record[init_record == None] = 0\n",
    "            sec_record = np.array(CE.query.with_entities(CE.start_day).filter_by(patient_id = patients[0]).all()).flatten()\n",
    "            \n",
    "            sec_record[sec_record == None] = 0\n",
    "            ordered_record = np.sort(np.maximum(init_record,sec_record))\n",
    "        else:\n",
    "            ordered_record = np.array(CE.query.with_entities(CE.day).order_by(CE.day).filter_by(patient_id = patients[0]).all()).flatten()\n",
    "\n",
    "        baseline = 0 \n",
    "        for record in ordered_record:\n",
    "            duration_of_relapse.append(record - baseline)\n",
    "            baseline = record\n",
    "    else:\n",
    "        non_relapse_list.append(patients[0])\n",
    "            \n",
    "duration_of_relapse = np.array(duration_of_relapse)"
   ]
  },
  {
   "cell_type": "code",
   "execution_count": null,
   "metadata": {},
   "outputs": [],
   "source": [
    "plt.figure(figsize=(16,8))\n",
    "bin_num = 40\n",
    "values, bins = np.histogram(duration_of_relapse/30,bins=bin_num)\n",
    "plt.hist(duration_of_relapse/30,bins=bin_num)\n",
    "cumsum = np.cumsum(values)\n",
    "# plt.plot(bins[1:],cumsum,'o-',label = 'Cumulative Sum')\n",
    "plt.title(\"Duration between successive relapse events\",fontsize=16)\n",
    "plt.ylabel(\"Frequency\")\n",
    "plt.xlabel(\"Duration between successive relapse events (months)\")\n",
    "plt.legend()\n",
    "plt.show()"
   ]
  },
  {
   "cell_type": "code",
   "execution_count": null,
   "metadata": {},
   "outputs": [],
   "source": []
  },
  {
   "cell_type": "markdown",
   "metadata": {},
   "source": [
    "### closer look..."
   ]
  },
  {
   "cell_type": "code",
   "execution_count": null,
   "metadata": {},
   "outputs": [],
   "source": [
    "plt.figure(figsize=(16,8))\n",
    "plt.hist(duration_of_relapse/30,bins=100)\n",
    "plt.title(\"Distribution of duration between successive relapsing event (in months)\",fontsize=16)\n",
    "plt.ylabel(\"Frequency\")\n",
    "plt.xlabel(\"Duration (months)\")\n",
    "plt.xlim([0,10])\n",
    "plt.show()"
   ]
  },
  {
   "cell_type": "code",
   "execution_count": null,
   "metadata": {},
   "outputs": [],
   "source": [
    "np.sum([duration_of_relapse/30 <3])"
   ]
  },
  {
   "cell_type": "code",
   "execution_count": null,
   "metadata": {},
   "outputs": [],
   "source": [
    "np.sum([duration_of_relapse/30>3])"
   ]
  },
  {
   "cell_type": "markdown",
   "metadata": {},
   "source": [
    "## Age distribution of patients with relapsing event"
   ]
  },
  {
   "cell_type": "code",
   "execution_count": null,
   "metadata": {},
   "outputs": [],
   "source": [
    "age_of_relapsed_patients = []\n",
    "for i in relapse_patient_list:\n",
    "    one_p = DM.query.with_entities(DM.age).filter_by(patient_id = i).first()[0]\n",
    "    age_of_relapsed_patients.append(one_p)\n",
    "age_of_relapsed_patients = np.array(age_of_relapsed_patients)\n",
    "age_of_relapsed_patients[age_of_relapsed_patients == None] = 0\n",
    "plt.figure(figsize=(16,8))\n",
    "plt.hist(age_of_relapsed_patients,bins=50)\n",
    "plt.title(\"Age of patients with relapse\",fontsize=16)\n",
    "plt.show()"
   ]
  },
  {
   "cell_type": "markdown",
   "metadata": {},
   "source": [
    "To conlude:\n",
    "+ 1250 patients does not have any relapse event.\n",
    "+ We have 4487 relapse events from 1215 patients.\n",
    "+ Most of the relapsing event are about ~ 90days (3 months) apart from each other. \n",
    "+ if we set the threshold to be 3 months, we will have a balanced dataset for the ML training, but many cases will be on the border,i.e. hard to distinguish\n",
    "+ If we set threshold = 4 months, the ratio (within 4 months: outside 4months) = 3296:1179 ~ 3:1\n",
    "+ we can easily rebalance the problem by assigning 1250 patients with no relapse history as outside 4months\n",
    "+ Data drift: We can create an artificial drift by training people under the age of 50\n"
   ]
  },
  {
   "cell_type": "markdown",
   "metadata": {},
   "source": [
    "## QS related "
   ]
  },
  {
   "cell_type": "markdown",
   "metadata": {},
   "source": [
    "Records of Patient's condition at a specific data/time."
   ]
  },
  {
   "cell_type": "markdown",
   "metadata": {},
   "source": [
    "## Distribution of QS test day"
   ]
  },
  {
   "cell_type": "code",
   "execution_count": null,
   "metadata": {},
   "outputs": [],
   "source": [
    "qs_testday = np.array(QS.query.with_entities(QS.test_day).all())\n",
    "qs_testday[qs_testday == None] = np.nan\n",
    "plt.figure(figsize=(16,8))\n",
    "plt.hist(qs_testday,bins=50)\n",
    "plt.title(\"QS test day distribution\")\n",
    "plt.xlabel(\"Test day\")\n",
    "plt.ylabel(\"Amount of QS records\")\n",
    "plt.show()"
   ]
  },
  {
   "cell_type": "markdown",
   "metadata": {},
   "source": [
    "## Distribution of QS visit day"
   ]
  },
  {
   "cell_type": "code",
   "execution_count": null,
   "metadata": {},
   "outputs": [],
   "source": [
    "qs_visitday = np.array(QS.query.with_entities(QS.visit_day).all())\n",
    "qs_visitday[qs_visitday == None] = np.nan\n",
    "plt.figure(figsize=(16,8))\n",
    "plt.hist(qs_visitday,bins=50)\n",
    "plt.title(\"QS Visit day distribution\")\n",
    "plt.xlabel(\"Visit day\")\n",
    "plt.ylabel(\"Amount of QS records\")\n",
    "\n",
    "plt.show()"
   ]
  },
  {
   "cell_type": "markdown",
   "metadata": {},
   "source": [
    "### Is there any overlapping between QS taken on visit day and QS taken on test day?"
   ]
  },
  {
   "cell_type": "markdown",
   "metadata": {},
   "source": [
    "Yes, ~10 % of the record is overlapping, but most of them have the same day on test and visit day"
   ]
  },
  {
   "cell_type": "markdown",
   "metadata": {},
   "source": [
    "## How many KFSS records does each patient w/ relapse have?"
   ]
  },
  {
   "cell_type": "code",
   "execution_count": null,
   "metadata": {},
   "outputs": [],
   "source": [
    "QS_number = []\n",
    "\n",
    "for i in relapse_patient_list:\n",
    "    QS_record = QS.query.with_entities(QS.test_category).filter_by(patient_id = i).filter_by(test_category = 'KFSS').all()\n",
    "    QS_number.append(len(QS_record))\n",
    "plt.figure(figsize=(16,8))\n",
    "plt.hist(QS_number,bins=50)\n",
    "plt.title(\"Distribution of KFSS record per patient\",fontsize=16)\n",
    "plt.ylabel(\"Number of patients\")\n",
    "plt.xlabel(\"Number of QS Records\")\n",
    "plt.show()"
   ]
  },
  {
   "cell_type": "markdown",
   "metadata": {},
   "source": [
    "## How often are the KFSS scores been recorded, per CE event ?"
   ]
  },
  {
   "cell_type": "code",
   "execution_count": null,
   "metadata": {},
   "outputs": [],
   "source": [
    "QS_per_CE_ratio = []\n",
    "complete_patient_record = []\n",
    "for i in relapse_patient_list:\n",
    "    QS_record_visit = QS.query.with_entities(QS.visit_day).filter_by(patient_id = i).filter_by(test_category = 'KFSS').all()\n",
    "    QS_record_test = QS.query.with_entities(QS.test_day).filter_by(patient_id = i).filter_by(test_category = 'KFSS').all()\n",
    "    init_record = np.array(CE.query.with_entities(CE.start_day).filter_by(patient_id = i).all()).flatten()\n",
    "    if (None in np.array(QS_record_visit)) and (None in np.array(QS_record_test)):\n",
    "\n",
    "#         print(i,\"discard\")\n",
    "        continue\n",
    "    if None in np.array(QS_record_visit):\n",
    "#         print(i,\"none in visit \")\n",
    "        pass\n",
    "    else:\n",
    "        QS_per_CE_ratio.append(len(np.unique(QS_record_visit))/len(init_record))\n",
    "        complete_patient_record.append(i)\n",
    "        continue\n",
    "        \n",
    "    if None in np.array(QS_record_test):\n",
    "#         print(i, \"none in test \")\n",
    "        pass\n",
    "    else:\n",
    "        QS_per_CE_ratio.append(len(np.unique(QS_record_test))/len(init_record))\n",
    "        complete_patient_record.append(i)\n",
    "        continue\n"
   ]
  },
  {
   "cell_type": "code",
   "execution_count": null,
   "metadata": {},
   "outputs": [],
   "source": [
    "plt.figure(figsize=(16,8))\n",
    "plt.hist(QS_per_CE_ratio,bins=50)\n",
    "plt.title(\"Distribution of QS:CE ratio, per patient\",fontsize=16)\n",
    "plt.ylabel(\"Number of patients\")\n",
    "plt.xlabel(\"QS event (per CE event)\")\n",
    "plt.show()"
   ]
  },
  {
   "cell_type": "code",
   "execution_count": null,
   "metadata": {},
   "outputs": [],
   "source": []
  },
  {
   "cell_type": "markdown",
   "metadata": {},
   "source": [
    "### Patients with well-documented QS records"
   ]
  },
  {
   "cell_type": "code",
   "execution_count": null,
   "metadata": {},
   "outputs": [],
   "source": [
    "len(QS_per_CE_ratio)"
   ]
  },
  {
   "cell_type": "code",
   "execution_count": null,
   "metadata": {},
   "outputs": [],
   "source": [
    "np.mean(QS_per_CE_ratio)"
   ]
  },
  {
   "cell_type": "markdown",
   "metadata": {},
   "source": [
    "### Short notes here\n",
    "\n",
    "+ There are 743 relapsing patients with well recoreded QS \n",
    "+ There are on average 4 QS records per CE events, meaning for every CE events there are 4 QS records at different date/time\n",
    "+ Since there are more than one QS event per CE, we can use extra QS event to augment the dataset.\n",
    "+ From CE/patient distribution, we can see that there are ~800 patients with more than one relapse event.\n",
    "\n"
   ]
  },
  {
   "cell_type": "markdown",
   "metadata": {},
   "source": [
    "## Data Augmentation"
   ]
  },
  {
   "cell_type": "code",
   "execution_count": null,
   "metadata": {},
   "outputs": [],
   "source": [
    "num=0"
   ]
  },
  {
   "cell_type": "code",
   "execution_count": null,
   "metadata": {
    "scrolled": false
   },
   "outputs": [],
   "source": [
    "QS_record_visit = QS.query.with_entities(QS.test_day).filter_by(patient_id = complete_patient_record[num]).filter_by(test_category = 'KFSS').all()\n",
    "QS_record_test = QS.query.with_entities(QS.visit_day).filter_by(patient_id = complete_patient_record[num]).filter_by(test_category = 'KFSS').all()\n",
    "init_record = np.array(CE.query.with_entities(CE.day).filter_by(patient_id = complete_patient_record[num]).all()).flatten()\n",
    "\n",
    "if None in init_record:\n",
    "    init_record[init_record == None] = 0\n",
    "    sec_record = np.array(CE.query.with_entities(CE.start_day).filter_by(patient_id = complete_patient_record[num]).all()).flatten()\n",
    "\n",
    "    sec_record[sec_record == None] = 0\n",
    "    ordered_record = np.sort(np.maximum(init_record,sec_record))\n",
    "else:\n",
    "    ordered_record = np.array(CE.query.with_entities(CE.day).order_by(CE.day).filter_by(patient_id = complete_patient_record[num]).all()).flatten()\n",
    "\n",
    "if None in np.array(QS_record_visit):\n",
    "    good_QS = QS_record_test\n",
    "else:\n",
    "    good_QS = QS_record_visit\n",
    "\n",
    "plt.figure(figsize=(16,8))\n",
    "QS_in_m = np.unique(good_QS)/30\n",
    "CE_in_m = ordered_record/30\n",
    "color_list = np.array(['k']*len(QS_in_m))\n",
    "\n",
    "for i in CE_in_m:\n",
    "    color_list[((i-QS_in_m<4)&(i-QS_in_m>-0.1))] = 'r'\n",
    "\n",
    "plt.scatter(x=np.unique(good_QS)/30,y=np.ones_like(np.unique(good_QS)),s=60,c=color_list,label = 'QS record day')\n",
    "for i in ordered_record:\n",
    "    plt.axvline(x=i/30,color='orange',label=f'Relapse event (Day {i})')\n",
    "plt.xlabel(\"months\")\n",
    "plt.legend()\n",
    "plt.title(f\"Patient {complete_patient_record[num]} history\",fontsize=16)"
   ]
  },
  {
   "cell_type": "markdown",
   "metadata": {},
   "source": [
    "## How often are the EDSS scores been recorded, per CE event ?"
   ]
  },
  {
   "cell_type": "code",
   "execution_count": null,
   "metadata": {},
   "outputs": [],
   "source": [
    "QS_per_CE_ratio = []\n",
    "complete_patient_record = []\n",
    "for i in relapse_patient_list:\n",
    "    QS_record_visit = QS.query.with_entities(QS.visit_day).filter_by(patient_id = i).filter_by(test_category = 'EDSS').all()\n",
    "    QS_record_test = QS.query.with_entities(QS.test_day).filter_by(patient_id = i).filter_by(test_category = 'EDSS').all()\n",
    "    init_record = np.array(CE.query.with_entities(CE.start_day).filter_by(patient_id = i).all()).flatten()\n",
    "    if (None in np.array(QS_record_visit)) and (None in np.array(QS_record_test)):\n",
    "#         print(i,\"discard\")\n",
    "        continue\n",
    "    if None in np.array(QS_record_visit):\n",
    "#         print(i,\"none in visit \")\n",
    "        pass\n",
    "    else:\n",
    "        QS_per_CE_ratio.append(len(np.unique(QS_record_visit))/len(init_record))\n",
    "        complete_patient_record.append(i)\n",
    "        continue\n",
    "        \n",
    "    if None in np.array(QS_record_test):\n",
    "#         print(i, \"none in test \")\n",
    "        pass\n",
    "    else:\n",
    "        QS_per_CE_ratio.append(len(np.unique(QS_record_test))/len(init_record))\n",
    "        complete_patient_record.append(i)\n",
    "        continue\n",
    "\n"
   ]
  },
  {
   "cell_type": "code",
   "execution_count": null,
   "metadata": {},
   "outputs": [],
   "source": [
    "plt.figure(figsize=(16,8))\n",
    "plt.hist(QS_per_CE_ratio,bins=50)\n",
    "plt.title(\"Distribution of QS event per CE event, per patient\")\n",
    "plt.ylabel(\"Frequency\")\n",
    "plt.xlabel(\"QS event per CE event\")\n",
    "plt.show()"
   ]
  },
  {
   "cell_type": "code",
   "execution_count": null,
   "metadata": {},
   "outputs": [],
   "source": [
    "\n"
   ]
  },
  {
   "cell_type": "code",
   "execution_count": null,
   "metadata": {},
   "outputs": [],
   "source": [
    "target_list = []\n",
    "for i in complete_patient_record:\n",
    "    QS_record_visit = QS.query.with_entities(QS.test_day).filter_by(patient_id = i).filter_by(test_category = 'KFSS').all()\n",
    "    QS_record_test = QS.query.with_entities(QS.visit_day).filter_by(patient_id = i).filter_by(test_category = 'KFSS').all()\n",
    "    init_record = np.array(CE.query.with_entities(CE.day).filter_by(patient_id = i).all()).flatten()\n",
    "\n",
    "    if None in init_record:\n",
    "        init_record[init_record == None] = 0\n",
    "        sec_record = np.array(CE.query.with_entities(CE.start_day).filter_by(patient_id = i).all()).flatten()\n",
    "\n",
    "        sec_record[sec_record == None] = 0\n",
    "        ordered_record = np.sort(np.maximum(init_record,sec_record))\n",
    "    else:\n",
    "        ordered_record = np.array(CE.query.with_entities(CE.day).order_by(CE.day).filter_by(patient_id = i).all()).flatten()\n",
    "\n",
    "    if None in np.array(QS_record_visit):\n",
    "        good_QS = QS_record_test\n",
    "    else:\n",
    "        good_QS = QS_record_visit\n",
    "\n",
    "    QS_in_m = np.unique(good_QS)/30\n",
    "    CE_in_m = ordered_record/30\n",
    "    negative_list = np.array([0]*len(QS_in_m))\n",
    "\n",
    "    for i in CE_in_m:\n",
    "        negative_list[((i-QS_in_m<4)&(i-QS_in_m>-0.1))] = 1\n",
    "    target_list.append(np.array(negative_list).flatten())\n"
   ]
  },
  {
   "cell_type": "code",
   "execution_count": null,
   "metadata": {},
   "outputs": [],
   "source": [
    "flat_list = [item for sublist in target_list for item in sublist]\n",
    "np.sum(flat_list)"
   ]
  },
  {
   "cell_type": "code",
   "execution_count": null,
   "metadata": {},
   "outputs": [],
   "source": []
  },
  {
   "cell_type": "markdown",
   "metadata": {},
   "source": [
    "# To Summarise our data exploration:\n"
   ]
  },
  {
   "cell_type": "markdown",
   "metadata": {},
   "source": [
    "## Our Objective:\n",
    "+ To build a naive model that :\n",
    "    + predicts whether a patient will have a relapse event in n months time, given his/her health record on a particular day.\n",
    "    + predicts whether a patient will have a relapse event in the future, given his/her health record on a particular day.\n",
    "    \n",
    "## Approach:\n",
    "We defined a relapse event happened to a patient when there has been a record in the Clinical Event, regardless of whether it is suspected or not. \n",
    "\n",
    "\\begin{align}\n",
    "y_t = \\begin{cases}\n",
    "    0       & \\quad \\text{if relapse event happens outside } n \\text{ months time}\\\\\n",
    "    1  & \\quad \\text{if relapse event happens within } n \\text{ months time}\n",
    "  \\end{cases}\n",
    "\\end{align}\n",
    "\n",
    "The corresponding prediction, $\\hat{y_t} = [0,1]$, from a ML model $\\Theta$, is generated using the patient's health record at time $t$, $x_t$, i.e.\n",
    "\n",
    "\\begin{align}\n",
    " \\hat{y_t} = \\Theta(x_t)\n",
    "\\end{align}\n",
    "\n",
    "In our case, $x_t$ represnts the patient's background, $B$, and the patient's KFSS score at that time $t$, $K_t = \\{k_1,k_2... k_n\\} $, thus:\n",
    "\n",
    "\\begin{align}\n",
    " \\hat{y_t} = \\Theta(B,K_t)\n",
    "\\end{align}\n",
    "\n",
    "As this is a supervised classification task, we plan to use cross entopy as our loss function $\\mathcal{L}$.\n",
    "\n",
    "\\begin{align}\n",
    "\\mathcal{L}= -( y_t log(\\hat{y_t})+(1 - y_t ) log (1-\\hat{y_t})\n",
    "\\end{align}\n",
    "\n",
    "This is only one way of utilising the data. The purpose of this task is simply to help demostrate the infrastructure of the initial version of the learning machine. \n",
    "\n",
    "## Statistics (the case when n =4):\n",
    "\n",
    "After filtering missing information from 3 different tables, DM, CE and QS. There are in total 743 patients that have non-zero relapse event and have well-documented QS events (dates are not missing), with a total of 3454 CE. \n",
    "\n",
    "Since there are multiple QS record per CE event, meaning that we can augment the dataset by treating each QS record as a different case, summing up to approx. 7489 individual cases (datapoints) for our model to learn.\n",
    "\n",
    "In that case, there are 7489 cases, with 4365 positive cases (happening within 4 months) and 3124 negative cases ( happening after 4 months)"
   ]
  },
  {
   "cell_type": "code",
   "execution_count": null,
   "metadata": {},
   "outputs": [],
   "source": []
  },
  {
   "cell_type": "markdown",
   "metadata": {},
   "source": [
    "\n",
    "\n"
   ]
  },
  {
   "cell_type": "markdown",
   "metadata": {},
   "source": [
    "## extra\n",
    "Medical health record\n"
   ]
  },
  {
   "cell_type": "code",
   "execution_count": null,
   "metadata": {},
   "outputs": [],
   "source": [
    "all_patients = np.array(DM.query.with_entities(DM.patient_id).all())\n"
   ]
  },
  {
   "cell_type": "code",
   "execution_count": null,
   "metadata": {},
   "outputs": [],
   "source": [
    "for i in all_patients:\n",
    "    MH_record = MH.query.with_entities(MH.category).filter_by(patient_id = i[0])\n"
   ]
  },
  {
   "cell_type": "code",
   "execution_count": null,
   "metadata": {},
   "outputs": [],
   "source": [
    "MHCAT = np.array(MH.query.with_entities(MH.category).all())\n",
    "MHSCAT = np.array(MH.query.with_entities(MH.sub_category).all())\n",
    "MHTERM = np.array(MH.query.with_entities(MH.term).all())\n",
    "decode = np.array(MH.query.with_entities(MH.decode).all())"
   ]
  },
  {
   "cell_type": "code",
   "execution_count": null,
   "metadata": {},
   "outputs": [],
   "source": [
    "# For all patients"
   ]
  },
  {
   "cell_type": "code",
   "execution_count": null,
   "metadata": {},
   "outputs": [],
   "source": [
    "MHCAT[MHCAT == None] = 'Missing'\n",
    "keys, counts = np.unique(MHCAT, return_counts=True)\n",
    "keys = keys[counts.argsort()][::-1]\n",
    "counts = counts[counts.argsort()][::-1]\n",
    "\n",
    "plt.figure(figsize = (16,8))\n",
    "plt.barh(keys[:10],counts[:10])\n",
    "plt.title(\"Medical Health Category Distribution (Top 10)\",fontsize=16)"
   ]
  },
  {
   "cell_type": "code",
   "execution_count": null,
   "metadata": {},
   "outputs": [],
   "source": [
    "MHSCAT[MHSCAT == None] = 'Missing'\n",
    "keys, counts = np.unique(MHSCAT, return_counts=True)\n",
    "keys = keys[counts.argsort()][::-1]\n",
    "counts = counts[counts.argsort()][::-1]\n",
    "\n",
    "plt.figure(figsize = (16,8))\n",
    "plt.barh(keys[:10],counts[:10])\n",
    "plt.title(\"Medical Health Sub Category Distribution (Top 10)\",fontsize=16)"
   ]
  },
  {
   "cell_type": "code",
   "execution_count": null,
   "metadata": {},
   "outputs": [],
   "source": [
    "decode[decode == None] = 'Missing'\n",
    "keys, counts = np.unique(decode, return_counts=True)\n",
    "keys = keys[counts.argsort()][::-1]\n",
    "counts = counts[counts.argsort()][::-1]\n",
    "plt.figure(figsize = (16,8))\n",
    "plt.barh(keys[:10],counts[:10])\n",
    "plt.title(\"Medical Health Decode Distribution\",fontsize=16)"
   ]
  },
  {
   "cell_type": "code",
   "execution_count": null,
   "metadata": {},
   "outputs": [],
   "source": []
  },
  {
   "cell_type": "code",
   "execution_count": null,
   "metadata": {},
   "outputs": [],
   "source": [
    "MHTERM[MHTERM == None] = 'Missing'\n",
    "keys, counts = np.unique(MHTERM, return_counts=True)\n",
    "keys = keys[counts.argsort()][::-1]\n",
    "counts = counts[counts.argsort()][::-1]\n",
    "plt.figure(figsize = (16,8))\n",
    "plt.barh(keys[:20],counts[:20])\n",
    "plt.title(\"Medical Health Term Distribution\",fontsize=16)"
   ]
  },
  {
   "cell_type": "code",
   "execution_count": null,
   "metadata": {},
   "outputs": [],
   "source": []
  },
  {
   "cell_type": "markdown",
   "metadata": {},
   "source": [
    "## For relapse patient only"
   ]
  },
  {
   "cell_type": "code",
   "execution_count": null,
   "metadata": {},
   "outputs": [],
   "source": [
    "relapse_freq = []\n",
    "for i in relapse_patient_list:\n",
    "    mhterm = np.array(MH.query.with_entities(MH.term).filter_by(patient_id = i).all())\n",
    "    relapse_freq.append(mhterm.flatten())\n",
    "    "
   ]
  },
  {
   "cell_type": "code",
   "execution_count": null,
   "metadata": {},
   "outputs": [],
   "source": [
    "relapse_freq_list = np.array([item for sublist in relapse_freq for item in sublist])\n",
    "\n"
   ]
  },
  {
   "cell_type": "code",
   "execution_count": null,
   "metadata": {},
   "outputs": [],
   "source": [
    "relapse_freq_list[relapse_freq_list == None] = 'Missing'\n",
    "keys, counts = np.unique(relapse_freq_list, return_counts=True)\n",
    "keys = keys[counts.argsort()][::-1]\n",
    "counts = counts[counts.argsort()][::-1]\n",
    "plt.figure(figsize = (16,8))\n",
    "plt.barh(keys[:20],counts[:20])\n",
    "plt.title(\"Medical Health Term Distribution\",fontsize=16)"
   ]
  },
  {
   "cell_type": "code",
   "execution_count": null,
   "metadata": {},
   "outputs": [],
   "source": [
    "len(relapse_patient_list)"
   ]
  },
  {
   "cell_type": "code",
   "execution_count": null,
   "metadata": {},
   "outputs": [],
   "source": [
    "## relapse patient, and with RRMS only!!"
   ]
  },
  {
   "cell_type": "code",
   "execution_count": null,
   "metadata": {},
   "outputs": [],
   "source": [
    "RRMS_mentioned_patient = []\n",
    "for i in relapse_patient_list:\n",
    "    mhterm = np.array(MH.query.with_entities(MH.term).filter_by(patient_id = i).all()).flatten()\n",
    "    if 'SPMS' in mhterm:\n",
    "        RRMS_mentioned_patient.append(mhterm)\n",
    "RRMS_mentioned_patient_list = np.array([item for sublist in RRMS_mentioned_patient for item in sublist])\n",
    "RRMS_mentioned_patient_list[RRMS_mentioned_patient_list == None] = 'Missing'\n",
    "keys, counts = np.unique(RRMS_mentioned_patient_list, return_counts=True)\n",
    "\n",
    "keys = keys[counts.argsort()][::-1]\n",
    "counts = counts[counts.argsort()][::-1]\n",
    "plt.figure(figsize = (16,8))\n",
    "plt.barh(keys[:20],counts[:20])\n",
    "plt.title(\"Medical Health Term Distribution\",fontsize=16)\n",
    "print(keys[0],counts[0])\n",
    "    "
   ]
  },
  {
   "cell_type": "code",
   "execution_count": null,
   "metadata": {},
   "outputs": [],
   "source": [
    "\n",
    "RRMS_mentioned_patient = []\n",
    "SPMS_mentioned_patient = []\n",
    "PPMS_mentioned_patient = []\n",
    "missing = []\n",
    "for i in no_relapse_record_patient:\n",
    "    mhterm = np.array(MH.query.with_entities(MH.term).filter_by(patient_id = i).all()).flatten()\n",
    "    if 'RRMS' in mhterm:\n",
    "        RRMS_mentioned_patient.append(1)\n",
    "    elif 'SPMS' in mhterm:\n",
    "        SPMS_mentioned_patient.append(1)\n",
    "    elif 'PPMS' in mhterm:\n",
    "        PPMS_mentioned_patient.append(1)\n",
    "    else:\n",
    "        missing.append(1)\n",
    "RRMS_mentioned_patient_r = []\n",
    "SPMS_mentioned_patient_r = []\n",
    "PPMS_mentioned_patient_r = []\n",
    "missing_r = []\n",
    "for i in relapse_patient_list:\n",
    "    mhterm = np.array(MH.query.with_entities(MH.term).filter_by(patient_id = i).all()).flatten()\n",
    "    if 'RRMS' in mhterm:\n",
    "        RRMS_mentioned_patient_r.append(1)\n",
    "    elif 'SPMS' in mhterm:\n",
    "        SPMS_mentioned_patient_r.append(1)\n",
    "    elif 'PPMS' in mhterm:\n",
    "        PPMS_mentioned_patient_r.append(1)\n",
    "    else:\n",
    "        missing_r.append(1)\n",
    "import pandas as pd\n",
    "r_cases_dict = {'RRMS':np.sum(RRMS_mentioned_patient_r),'SPMS':np.sum(SPMS_mentioned_patient_r),'PPMS':np.sum(PPMS_mentioned_patient_r),'Missing':np.sum(missing_r)}\n",
    "no_r_cases_dict = {'RRMS':np.sum(RRMS_mentioned_patient),'SPMS':np.sum(SPMS_mentioned_patient),'PPMS':np.sum(PPMS_mentioned_patient),'Missing':np.sum(missing)}\n",
    "\n",
    "\n",
    "df = pd.DataFrame.from_dict(r_cases_dict,orient='index')\n",
    "df2 = pd.DataFrame.from_dict(no_r_cases_dict,orient='index')\n",
    "df[\"without CE record\"] = pd.Series(no_r_cases_dict)\n",
    "df = df.rename(columns={0: \"with CE record\"})\n",
    "df.plot.bar()\n",
    "\n",
    "        \n",
    "\n"
   ]
  },
  {
   "cell_type": "code",
   "execution_count": null,
   "metadata": {},
   "outputs": [],
   "source": []
  },
  {
   "cell_type": "code",
   "execution_count": null,
   "metadata": {},
   "outputs": [],
   "source": []
  },
  {
   "cell_type": "markdown",
   "metadata": {},
   "source": [
    "## For patient w/o relapse event recorded"
   ]
  },
  {
   "cell_type": "code",
   "execution_count": null,
   "metadata": {},
   "outputs": [],
   "source": [
    "mask = np.isin(all_patients, relapse_patient_list, invert=True)"
   ]
  },
  {
   "cell_type": "code",
   "execution_count": null,
   "metadata": {},
   "outputs": [],
   "source": [
    "no_relapse_record_patient = all_patients[mask]"
   ]
  },
  {
   "cell_type": "code",
   "execution_count": null,
   "metadata": {},
   "outputs": [],
   "source": [
    "no_relapse_freq = []\n",
    "for i in no_relapse_record_patient:\n",
    "    mhterm = np.array(MH.query.with_entities(MH.term).filter_by(patient_id = i).all())\n",
    "    no_relapse_freq.append(mhterm.flatten())\n",
    "no_relapse_freq_list = np.array([item for sublist in no_relapse_freq for item in sublist])\n",
    "no_relapse_freq_list[no_relapse_freq_list == None] = 'Missing'\n",
    "keys, counts = np.unique(no_relapse_freq_list, return_counts=True)\n",
    "keys = keys[counts.argsort()][::-1]\n",
    "counts = counts[counts.argsort()][::-1]\n",
    "plt.figure(figsize = (16,8))\n",
    "plt.barh(keys[:20],counts[:20])\n",
    "plt.title(\"Medical Health Term Distribution (no recorded relapse)\",fontsize=16)\n"
   ]
  },
  {
   "cell_type": "code",
   "execution_count": null,
   "metadata": {},
   "outputs": [],
   "source": [
    "## no relapse record patient, and with RRMS only!!"
   ]
  },
  {
   "cell_type": "code",
   "execution_count": null,
   "metadata": {},
   "outputs": [],
   "source": [
    "RRMS_mentioned_patient = []\n",
    "RRMS_no_r_patient = []\n",
    "for i in no_relapse_record_patient:\n",
    "    mhterm = np.array(MH.query.with_entities(MH.term).filter_by(patient_id = i).all()).flatten()\n",
    "    if 'RRMS' in mhterm:\n",
    "        RRMS_mentioned_patient.append(mhterm)\n",
    "        RRMS_no_r_patient.append(i)\n",
    "RRMS_mentioned_patient_list = np.array([item for sublist in RRMS_mentioned_patient for item in sublist])\n",
    "RRMS_mentioned_patient_list[RRMS_mentioned_patient_list == None] = 'Missing'\n",
    "keys, counts = np.unique(RRMS_mentioned_patient_list, return_counts=True)\n",
    "\n",
    "keys = keys[counts.argsort()][::-1]\n",
    "counts = counts[counts.argsort()][::-1]\n",
    "plt.figure(figsize = (16,8))\n",
    "plt.barh(keys[:20],counts[:20])\n",
    "plt.title(\"Medical Health Term Distribution\",fontsize=16)\n",
    "print(keys[0],counts[0])"
   ]
  },
  {
   "cell_type": "code",
   "execution_count": null,
   "metadata": {},
   "outputs": [],
   "source": []
  },
  {
   "cell_type": "code",
   "execution_count": null,
   "metadata": {},
   "outputs": [],
   "source": [
    "for i in RRMS_no_r_patient:\n",
    "    one_patients = db.session.query(DM).filter_by(patient_id = i).all()\n",
    "    print(one_patients[0].clinical_event)\n",
    "# number_of_relapse = []\n",
    "# for patients in all_patients:\n",
    "#     number_of_relapse.append(len(patients.clinical_event))"
   ]
  },
  {
   "cell_type": "code",
   "execution_count": null,
   "metadata": {},
   "outputs": [],
   "source": []
  }
 ],
 "metadata": {
  "kernelspec": {
   "display_name": "Python 3",
   "language": "python",
   "name": "python3"
  },
  "language_info": {
   "codemirror_mode": {
    "name": "ipython",
    "version": 3
   },
   "file_extension": ".py",
   "mimetype": "text/x-python",
   "name": "python",
   "nbconvert_exporter": "python",
   "pygments_lexer": "ipython3",
   "version": "3.7.6"
  }
 },
 "nbformat": 4,
 "nbformat_minor": 4
}
